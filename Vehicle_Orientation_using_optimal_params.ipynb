{
  "nbformat": 4,
  "nbformat_minor": 0,
  "metadata": {
    "colab": {
      "name": "Vehicle Orientation using optimal params.ipynb",
      "provenance": [],
      "collapsed_sections": [],
      "authorship_tag": "ABX9TyN/veso0esMzVjZlfA/K1Et",
      "include_colab_link": true
    },
    "kernelspec": {
      "name": "python3",
      "display_name": "Python 3"
    },
    "accelerator": "GPU"
  },
  "cells": [
    {
      "cell_type": "markdown",
      "metadata": {
        "id": "view-in-github",
        "colab_type": "text"
      },
      "source": [
        "<a href=\"https://colab.research.google.com/github/danrosher/colab/blob/main/Vehicle_Orientation_using_optimal_params.ipynb\" target=\"_parent\"><img src=\"https://colab.research.google.com/assets/colab-badge.svg\" alt=\"Open In Colab\"/></a>"
      ]
    },
    {
      "cell_type": "code",
      "metadata": {
        "id": "R4P9546tEw79"
      },
      "source": [
        "!git clone https://gitlab.com/rosherd/vehicle_orient_deeplearning.git"
      ],
      "execution_count": null,
      "outputs": []
    },
    {
      "cell_type": "code",
      "metadata": {
        "id": "Mpx-lqPwE3gF"
      },
      "source": [
        "%tensorflow_version 2.x\n",
        "\n"
      ],
      "execution_count": null,
      "outputs": []
    },
    {
      "cell_type": "code",
      "metadata": {
        "id": "EDdp4Ft1E7Pc"
      },
      "source": [
        "from __future__ import absolute_import, division, print_function, unicode_literals\n",
        "import matplotlib.pylab as plt\n",
        "import tensorflow as tf\n",
        "import tensorflow_hub as hub\n",
        "from tensorflow.keras import layers\n",
        "import numpy as np\n",
        "import PIL.Image as Image\n",
        "from tensorflow.keras import regularizers\n",
        "from keras.callbacks import TensorBoard\n",
        "from keras import optimizers\n",
        "from tensorboard.plugins.hparams import api as hp\n"
      ],
      "execution_count": null,
      "outputs": []
    },
    {
      "cell_type": "code",
      "metadata": {
        "id": "OForhGEfFTap"
      },
      "source": [
        "\n",
        "IMAGE_SIZE=224\n",
        "validation_split=0.1\n",
        "\n",
        "IMAGE_SHAPE = (IMAGE_SIZE, IMAGE_SIZE)\n",
        "\n",
        "train_datagen = tf.keras.preprocessing.image.ImageDataGenerator(\n",
        "    rescale=1/255,\n",
        "    validation_split=validation_split)\n",
        "\n",
        "train_data_dir = 'vehicle_orient_deeplearning/vehicle_images' \n",
        "\n",
        "train_generator = train_datagen.flow_from_directory(\n",
        "    train_data_dir+\"/all\",\n",
        "    target_size=IMAGE_SHAPE,\n",
        "    shuffle=True,\n",
        "    class_mode='categorical',\n",
        "    subset='training') # set as training data\n",
        "\n",
        "validation_generator = train_datagen.flow_from_directory(\n",
        "    train_data_dir+\"/all\",\n",
        "    target_size=IMAGE_SHAPE,\n",
        "    shuffle=True,\n",
        "    class_mode='categorical',\n",
        "    subset='validation') # set as validation data"
      ],
      "execution_count": null,
      "outputs": []
    },
    {
      "cell_type": "code",
      "metadata": {
        "id": "4XuHK5k6dCuL"
      },
      "source": [
        "steps_per_epoch = np.ceil(train_generator.samples/train_generator.batch_size)\n",
        "validation_steps_per_epoch = np.ceil(validation_generator.samples/validation_generator.batch_size)\n",
        "\n",
        "input_tensor = tf.keras.layers.Input(shape=(224, 224, 3),name='input_image')\n",
        "image_model = tf.keras.applications.InceptionV3(include_top=False,  weights='imagenet')\n",
        "\n",
        "image_model.trainable = True\n",
        "fine_tune_at = 120\n",
        "# Freeze all the layers before the `fine_tune_at` layer\n",
        "for layer in image_model.layers[:fine_tune_at]:\n",
        "  layer.trainable =  False\n",
        "\n",
        "model = tf.keras.Sequential([ \n",
        "  input_tensor,\n",
        "  image_model,\n",
        "  layers.GlobalAveragePooling2D(),\n",
        "  layers.Dense(hparams['HP_NUM_UNITS'], activation=tf.nn.relu,kernel_regularizer=tf.keras.regularizers.l2(0.0001)),\n",
        "  layers.Dropout(hparams['HP_DROPOUT']),\n",
        "  layers.Dense(train_generator.num_classes, name='out', activation='softmax',kernel_regularizer=tf.keras.regularizers.l2(hparams['HP_L2']))\n",
        "])\n",
        "\n",
        "hparams = {\n",
        "    'HP_L2' : 0.0001,\n",
        "    'HP_OPTIMIZER' : tf.keras.optimizers.SGD(lr=0.1),\n",
        "    'HP_NUM_UNITS' : 64,\n",
        "    'HP_DROPOUT' : 0.06\n",
        "}\n",
        "\n",
        "model.compile(\n",
        "    optimizer=hparams['HP_OPTIMIZER'],\n",
        "    loss=tf.keras.losses.CategoricalCrossentropy(),\n",
        "    metrics=['accuracy'])\n",
        "\n",
        "model.summary()\n",
        "\n",
        "history = model.fit_generator(\n",
        "  train_generator,\n",
        "  epochs=1,\n",
        "  steps_per_epoch=steps_per_epoch,\n",
        "  validation_data = validation_generator, \n",
        "  validation_steps = validation_steps_per_epoch\n",
        ")\n"
      ],
      "execution_count": null,
      "outputs": []
    },
    {
      "cell_type": "code",
      "metadata": {
        "id": "Dj683KGqnvBs"
      },
      "source": [
        "history = model.fit_generator(\n",
        "  train_generator,\n",
        "  epochs=10,\n",
        "  steps_per_epoch=steps_per_epoch,\n",
        "  validation_data = validation_generator, \n",
        "  validation_steps = validation_steps_per_epoch\n",
        ")"
      ],
      "execution_count": null,
      "outputs": []
    },
    {
      "cell_type": "code",
      "metadata": {
        "id": "7sQnaD5RpjxC"
      },
      "source": [
        "\n",
        "from matplotlib import pyplot\n",
        "\n",
        "# plot learning curves\n",
        "pyplot.title('Learning Curves')\n",
        "pyplot.xlabel('Epoch')\n",
        "pyplot.ylabel('Cross Entropy')\n",
        "pyplot.plot(history.history['loss'], label='train')\n",
        "pyplot.plot(history.history['val_loss'], label='val')\n",
        "pyplot.legend()\n",
        "pyplot.show()\n"
      ],
      "execution_count": null,
      "outputs": []
    },
    {
      "cell_type": "code",
      "metadata": {
        "id": "1U5S7tSXCBTd"
      },
      "source": [
        "!mkdir saved_model\n",
        "export_path = \"saved_model\"\n",
        "model.save(export_path, save_format='tf')\n",
        "!tar cvzf /content/model.tgz /content/saved_model"
      ],
      "execution_count": null,
      "outputs": []
    },
    {
      "cell_type": "code",
      "metadata": {
        "id": "PmXHk8HJ5wOg"
      },
      "source": [
        "!saved_model_cli show --dir {export_path} --all"
      ],
      "execution_count": null,
      "outputs": []
    }
  ]
}